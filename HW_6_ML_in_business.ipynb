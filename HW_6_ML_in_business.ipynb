{
  "cells": [
    {
      "cell_type": "markdown",
      "source": [
        "###1. взять любой набор данных для бинарной классификации (можно скачать один с https://archive.ics.uci.edu/ml/datasets.php)\n",
        "###2. сделать feature engineering\n",
        "###3. обучить любой классификатор (какой вам нравится)\n",
        "###4. далее разделить ваш набор данных на два множества: P (positives) и U (unlabeled). Причем брать нужно не все положительные (класс 1) примеры, а только лишь часть\n",
        "###5. применить random negative sampling для построения классификатора в новых условиях\n",
        "###6. сравнить качество с решением из пункта 4 (построить отчет - таблицу метрик)\n",
        "###7. поэкспериментировать с долей P на шаге 6 (как будет меняться качество модели при уменьшении/увеличении размера P)"
      ],
      "metadata": {
        "id": "x_wIcUs7ZTfu"
      }
    },
    {
      "cell_type": "markdown",
      "metadata": {
        "id": "7fuvhbNKZMKj"
      },
      "source": [
        "Расмотрим пример на датасете из репозитория UCI\n",
        "\n",
        "Описание данных -https://archive.ics.uci.edu/ml/datasets/Credit+Approval"
      ]
    },
    {
      "cell_type": "markdown",
      "source": [
        "###Соответствующая информация:\n",
        "\n",
        "    Этот файл касается приложений для кредитных карт. Все имена атрибутов\n",
        "    и значения были изменены на бессмысленные символы для защиты\n",
        "    конфиденциальность данных.\n",
        "  \n",
        "    Этот набор данных интересен тем, что в нем хорошо сочетаются\n",
        "    атрибуты -- непрерывные, номинальные с небольшим количеством\n",
        "    значений, и номинальные с большим количеством значений. \n",
        "  \n",
        "5. Количество экземпляров: 690\n",
        "\n",
        "6. Количество атрибутов: 15 + атрибут класса\n",
        "\n",
        "7. Информация об атрибутах:\n",
        "\n",
        "    A1:\tb, a.\n",
        "    A2:\tcontinuous.\n",
        "    A3:\tcontinuous.\n",
        "    A4:\tu, y, l, t.\n",
        "    A5:\tg, p, gg.\n",
        "    A6:\tc, d, cc, i, j, k, m, r, q, w, x, e, aa, ff.\n",
        "    A7:\tv, h, bb, j, n, z, dd, ff, o.\n",
        "    A8:\tcontinuous.\n",
        "    A9:\tt, f.\n",
        "    A10:\tt, f.\n",
        "    A11:\tcontinuous.\n",
        "    A12:\tt, f.\n",
        "    A13:\tg, p, s.\n",
        "    A14:\tcontinuous.\n",
        "    A15:\tcontinuous.\n",
        "    A16: +,-         (class attribute)\n",
        "\n",
        "\n",
        "8. Распределение классов\n",
        "  \n",
        "    +: 307 (44,5%)\n",
        "    -: 383 (55,5%)"
      ],
      "metadata": {
        "id": "FGNNw9b407xp"
      }
    },
    {
      "cell_type": "code",
      "execution_count": 1,
      "metadata": {
        "colab": {
          "base_uri": "https://localhost:8080/",
          "height": 143
        },
        "id": "S9zVqdxHZMKl",
        "outputId": "3b97970f-f225-4113-811f-35d2bac637da"
      },
      "outputs": [
        {
          "output_type": "execute_result",
          "data": {
            "text/plain": [
              "  0      1     2  3  4  5  6     7  8  9   10 11 12     13   14 15\n",
              "0  b  30.83  0.00  u  g  w  v  1.25  t  t   1  f  g  00202    0  +\n",
              "1  a  58.67  4.46  u  g  q  h  3.04  t  t   6  f  g  00043  560  +\n",
              "2  a  24.50  0.50  u  g  q  h  1.50  t  f   0  f  g  00280  824  +"
            ],
            "text/html": [
              "\n",
              "  <div id=\"df-9fa70fae-9125-4182-9603-7470163fe6b2\">\n",
              "    <div class=\"colab-df-container\">\n",
              "      <div>\n",
              "<style scoped>\n",
              "    .dataframe tbody tr th:only-of-type {\n",
              "        vertical-align: middle;\n",
              "    }\n",
              "\n",
              "    .dataframe tbody tr th {\n",
              "        vertical-align: top;\n",
              "    }\n",
              "\n",
              "    .dataframe thead th {\n",
              "        text-align: right;\n",
              "    }\n",
              "</style>\n",
              "<table border=\"1\" class=\"dataframe\">\n",
              "  <thead>\n",
              "    <tr style=\"text-align: right;\">\n",
              "      <th></th>\n",
              "      <th>0</th>\n",
              "      <th>1</th>\n",
              "      <th>2</th>\n",
              "      <th>3</th>\n",
              "      <th>4</th>\n",
              "      <th>5</th>\n",
              "      <th>6</th>\n",
              "      <th>7</th>\n",
              "      <th>8</th>\n",
              "      <th>9</th>\n",
              "      <th>10</th>\n",
              "      <th>11</th>\n",
              "      <th>12</th>\n",
              "      <th>13</th>\n",
              "      <th>14</th>\n",
              "      <th>15</th>\n",
              "    </tr>\n",
              "  </thead>\n",
              "  <tbody>\n",
              "    <tr>\n",
              "      <th>0</th>\n",
              "      <td>b</td>\n",
              "      <td>30.83</td>\n",
              "      <td>0.00</td>\n",
              "      <td>u</td>\n",
              "      <td>g</td>\n",
              "      <td>w</td>\n",
              "      <td>v</td>\n",
              "      <td>1.25</td>\n",
              "      <td>t</td>\n",
              "      <td>t</td>\n",
              "      <td>1</td>\n",
              "      <td>f</td>\n",
              "      <td>g</td>\n",
              "      <td>00202</td>\n",
              "      <td>0</td>\n",
              "      <td>+</td>\n",
              "    </tr>\n",
              "    <tr>\n",
              "      <th>1</th>\n",
              "      <td>a</td>\n",
              "      <td>58.67</td>\n",
              "      <td>4.46</td>\n",
              "      <td>u</td>\n",
              "      <td>g</td>\n",
              "      <td>q</td>\n",
              "      <td>h</td>\n",
              "      <td>3.04</td>\n",
              "      <td>t</td>\n",
              "      <td>t</td>\n",
              "      <td>6</td>\n",
              "      <td>f</td>\n",
              "      <td>g</td>\n",
              "      <td>00043</td>\n",
              "      <td>560</td>\n",
              "      <td>+</td>\n",
              "    </tr>\n",
              "    <tr>\n",
              "      <th>2</th>\n",
              "      <td>a</td>\n",
              "      <td>24.50</td>\n",
              "      <td>0.50</td>\n",
              "      <td>u</td>\n",
              "      <td>g</td>\n",
              "      <td>q</td>\n",
              "      <td>h</td>\n",
              "      <td>1.50</td>\n",
              "      <td>t</td>\n",
              "      <td>f</td>\n",
              "      <td>0</td>\n",
              "      <td>f</td>\n",
              "      <td>g</td>\n",
              "      <td>00280</td>\n",
              "      <td>824</td>\n",
              "      <td>+</td>\n",
              "    </tr>\n",
              "  </tbody>\n",
              "</table>\n",
              "</div>\n",
              "      <button class=\"colab-df-convert\" onclick=\"convertToInteractive('df-9fa70fae-9125-4182-9603-7470163fe6b2')\"\n",
              "              title=\"Convert this dataframe to an interactive table.\"\n",
              "              style=\"display:none;\">\n",
              "        \n",
              "  <svg xmlns=\"http://www.w3.org/2000/svg\" height=\"24px\"viewBox=\"0 0 24 24\"\n",
              "       width=\"24px\">\n",
              "    <path d=\"M0 0h24v24H0V0z\" fill=\"none\"/>\n",
              "    <path d=\"M18.56 5.44l.94 2.06.94-2.06 2.06-.94-2.06-.94-.94-2.06-.94 2.06-2.06.94zm-11 1L8.5 8.5l.94-2.06 2.06-.94-2.06-.94L8.5 2.5l-.94 2.06-2.06.94zm10 10l.94 2.06.94-2.06 2.06-.94-2.06-.94-.94-2.06-.94 2.06-2.06.94z\"/><path d=\"M17.41 7.96l-1.37-1.37c-.4-.4-.92-.59-1.43-.59-.52 0-1.04.2-1.43.59L10.3 9.45l-7.72 7.72c-.78.78-.78 2.05 0 2.83L4 21.41c.39.39.9.59 1.41.59.51 0 1.02-.2 1.41-.59l7.78-7.78 2.81-2.81c.8-.78.8-2.07 0-2.86zM5.41 20L4 18.59l7.72-7.72 1.47 1.35L5.41 20z\"/>\n",
              "  </svg>\n",
              "      </button>\n",
              "      \n",
              "  <style>\n",
              "    .colab-df-container {\n",
              "      display:flex;\n",
              "      flex-wrap:wrap;\n",
              "      gap: 12px;\n",
              "    }\n",
              "\n",
              "    .colab-df-convert {\n",
              "      background-color: #E8F0FE;\n",
              "      border: none;\n",
              "      border-radius: 50%;\n",
              "      cursor: pointer;\n",
              "      display: none;\n",
              "      fill: #1967D2;\n",
              "      height: 32px;\n",
              "      padding: 0 0 0 0;\n",
              "      width: 32px;\n",
              "    }\n",
              "\n",
              "    .colab-df-convert:hover {\n",
              "      background-color: #E2EBFA;\n",
              "      box-shadow: 0px 1px 2px rgba(60, 64, 67, 0.3), 0px 1px 3px 1px rgba(60, 64, 67, 0.15);\n",
              "      fill: #174EA6;\n",
              "    }\n",
              "\n",
              "    [theme=dark] .colab-df-convert {\n",
              "      background-color: #3B4455;\n",
              "      fill: #D2E3FC;\n",
              "    }\n",
              "\n",
              "    [theme=dark] .colab-df-convert:hover {\n",
              "      background-color: #434B5C;\n",
              "      box-shadow: 0px 1px 3px 1px rgba(0, 0, 0, 0.15);\n",
              "      filter: drop-shadow(0px 1px 2px rgba(0, 0, 0, 0.3));\n",
              "      fill: #FFFFFF;\n",
              "    }\n",
              "  </style>\n",
              "\n",
              "      <script>\n",
              "        const buttonEl =\n",
              "          document.querySelector('#df-9fa70fae-9125-4182-9603-7470163fe6b2 button.colab-df-convert');\n",
              "        buttonEl.style.display =\n",
              "          google.colab.kernel.accessAllowed ? 'block' : 'none';\n",
              "\n",
              "        async function convertToInteractive(key) {\n",
              "          const element = document.querySelector('#df-9fa70fae-9125-4182-9603-7470163fe6b2');\n",
              "          const dataTable =\n",
              "            await google.colab.kernel.invokeFunction('convertToInteractive',\n",
              "                                                     [key], {});\n",
              "          if (!dataTable) return;\n",
              "\n",
              "          const docLinkHtml = 'Like what you see? Visit the ' +\n",
              "            '<a target=\"_blank\" href=https://colab.research.google.com/notebooks/data_table.ipynb>data table notebook</a>'\n",
              "            + ' to learn more about interactive tables.';\n",
              "          element.innerHTML = '';\n",
              "          dataTable['output_type'] = 'display_data';\n",
              "          await google.colab.output.renderOutput(dataTable, element);\n",
              "          const docLink = document.createElement('div');\n",
              "          docLink.innerHTML = docLinkHtml;\n",
              "          element.appendChild(docLink);\n",
              "        }\n",
              "      </script>\n",
              "    </div>\n",
              "  </div>\n",
              "  "
            ]
          },
          "metadata": {},
          "execution_count": 1
        }
      ],
      "source": [
        "import pandas as pd\n",
        "import numpy as np\n",
        "from sklearn.base import BaseEstimator, TransformerMixin\n",
        "from sklearn.model_selection import train_test_split\n",
        "from sklearn.preprocessing import StandardScaler\n",
        "data = pd.read_csv(\"crx.data\", header=None)\n",
        "data.head(3)"
      ]
    },
    {
      "cell_type": "code",
      "source": [
        "data.info()"
      ],
      "metadata": {
        "colab": {
          "base_uri": "https://localhost:8080/"
        },
        "id": "OHqHRgfxh9C3",
        "outputId": "e4f6b5e1-e015-438c-ce81-d1574def7d0f"
      },
      "execution_count": 2,
      "outputs": [
        {
          "output_type": "stream",
          "name": "stdout",
          "text": [
            "<class 'pandas.core.frame.DataFrame'>\n",
            "RangeIndex: 690 entries, 0 to 689\n",
            "Data columns (total 16 columns):\n",
            " #   Column  Non-Null Count  Dtype  \n",
            "---  ------  --------------  -----  \n",
            " 0   0       690 non-null    object \n",
            " 1   1       690 non-null    object \n",
            " 2   2       690 non-null    float64\n",
            " 3   3       690 non-null    object \n",
            " 4   4       690 non-null    object \n",
            " 5   5       690 non-null    object \n",
            " 6   6       690 non-null    object \n",
            " 7   7       690 non-null    float64\n",
            " 8   8       690 non-null    object \n",
            " 9   9       690 non-null    object \n",
            " 10  10      690 non-null    int64  \n",
            " 11  11      690 non-null    object \n",
            " 12  12      690 non-null    object \n",
            " 13  13      690 non-null    object \n",
            " 14  14      690 non-null    int64  \n",
            " 15  15      690 non-null    object \n",
            "dtypes: float64(2), int64(2), object(12)\n",
            "memory usage: 86.4+ KB\n"
          ]
        }
      ]
    },
    {
      "cell_type": "markdown",
      "metadata": {
        "id": "GGMDMW_DZMKn"
      },
      "source": [
        "У нас есть 15 признаков и 1 целевая переменная (бинарная) "
      ]
    },
    {
      "cell_type": "code",
      "execution_count": 3,
      "metadata": {
        "colab": {
          "base_uri": "https://localhost:8080/"
        },
        "id": "xz-ITCJQZMKn",
        "outputId": "9696de53-53f2-4088-c80e-0d0419f2b42a"
      },
      "outputs": [
        {
          "output_type": "stream",
          "name": "stdout",
          "text": [
            "(690, 16)\n"
          ]
        }
      ],
      "source": [
        "print(data.shape)"
      ]
    },
    {
      "cell_type": "markdown",
      "metadata": {
        "id": "_MpvMRhnZMKo"
      },
      "source": [
        "Посмотрим на соотношение классов"
      ]
    },
    {
      "cell_type": "code",
      "execution_count": 4,
      "metadata": {
        "colab": {
          "base_uri": "https://localhost:8080/"
        },
        "id": "bLrT5r-jZMKo",
        "outputId": "1ac6475c-334b-44b5-eda3-8ba726b13ac0"
      },
      "outputs": [
        {
          "output_type": "execute_result",
          "data": {
            "text/plain": [
              "-    383\n",
              "+    307\n",
              "Name: 15, dtype: int64"
            ]
          },
          "metadata": {},
          "execution_count": 4
        }
      ],
      "source": [
        "data.iloc[:,-1].value_counts()"
      ]
    },
    {
      "cell_type": "code",
      "source": [
        "data[15] = data[15].apply(lambda x: 0 if x == '-' else 1)"
      ],
      "metadata": {
        "id": "GI70nqhDe-xw"
      },
      "execution_count": 5,
      "outputs": []
    },
    {
      "cell_type": "code",
      "source": [
        "cat_col = [0, 1, 3, 4, 5, 6, 8, 9, 11, 12, 13]\n",
        "feature_col = [2, 7, 10, 14]"
      ],
      "metadata": {
        "id": "CDh8KeKlgd3s"
      },
      "execution_count": 6,
      "outputs": []
    },
    {
      "cell_type": "code",
      "source": [
        "one_hot = pd.get_dummies(data[cat_col])\n",
        "data = data.drop(cat_col, axis=1)\n",
        "data = data.join(one_hot)"
      ],
      "metadata": {
        "id": "rh2QBtVmhAug"
      },
      "execution_count": 7,
      "outputs": []
    },
    {
      "cell_type": "code",
      "source": [
        "scaler = StandardScaler()\n",
        "\n",
        "data_norm = data.copy()\n",
        "data[feature_col] = scaler.fit_transform(data_norm[feature_col])"
      ],
      "metadata": {
        "id": "Yl-tKWevhwPR"
      },
      "execution_count": 8,
      "outputs": []
    },
    {
      "cell_type": "code",
      "source": [
        "col_ = data.pop(15)\n",
        "data.insert(len(data.columns), 15, col_)"
      ],
      "metadata": {
        "id": "roDLK-dmKhsj"
      },
      "execution_count": 9,
      "outputs": []
    },
    {
      "cell_type": "code",
      "source": [
        "data.head(3)"
      ],
      "metadata": {
        "colab": {
          "base_uri": "https://localhost:8080/",
          "height": 237
        },
        "id": "jqMv2WOguAGo",
        "outputId": "0fb1d8d2-40e9-4635-b438-cbdf427e2a0c"
      },
      "execution_count": 10,
      "outputs": [
        {
          "output_type": "execute_result",
          "data": {
            "text/plain": [
              "          2         7        10        14  0_?  0_a  0_b  1_13.75  1_15.17  \\\n",
              "0 -0.956613 -0.291083 -0.288101 -0.195413    0    0    1        0        0   \n",
              "1 -0.060051  0.244190  0.740830 -0.087852    0    1    0        0        0   \n",
              "2 -0.856102 -0.216324 -0.493887 -0.037144    0    1    0        0        0   \n",
              "\n",
              "   1_15.75  ...  13_00711  13_00720  13_00760  13_00840  13_00928  13_00980  \\\n",
              "0        0  ...         0         0         0         0         0         0   \n",
              "1        0  ...         0         0         0         0         0         0   \n",
              "2        0  ...         0         0         0         0         0         0   \n",
              "\n",
              "   13_01160  13_02000  13_?  15  \n",
              "0         0         0     0   1  \n",
              "1         0         0     0   1  \n",
              "2         0         0     0   1  \n",
              "\n",
              "[3 rows x 571 columns]"
            ],
            "text/html": [
              "\n",
              "  <div id=\"df-38b5eb80-695e-4aa7-99a8-164bbdeea510\">\n",
              "    <div class=\"colab-df-container\">\n",
              "      <div>\n",
              "<style scoped>\n",
              "    .dataframe tbody tr th:only-of-type {\n",
              "        vertical-align: middle;\n",
              "    }\n",
              "\n",
              "    .dataframe tbody tr th {\n",
              "        vertical-align: top;\n",
              "    }\n",
              "\n",
              "    .dataframe thead th {\n",
              "        text-align: right;\n",
              "    }\n",
              "</style>\n",
              "<table border=\"1\" class=\"dataframe\">\n",
              "  <thead>\n",
              "    <tr style=\"text-align: right;\">\n",
              "      <th></th>\n",
              "      <th>2</th>\n",
              "      <th>7</th>\n",
              "      <th>10</th>\n",
              "      <th>14</th>\n",
              "      <th>0_?</th>\n",
              "      <th>0_a</th>\n",
              "      <th>0_b</th>\n",
              "      <th>1_13.75</th>\n",
              "      <th>1_15.17</th>\n",
              "      <th>1_15.75</th>\n",
              "      <th>...</th>\n",
              "      <th>13_00711</th>\n",
              "      <th>13_00720</th>\n",
              "      <th>13_00760</th>\n",
              "      <th>13_00840</th>\n",
              "      <th>13_00928</th>\n",
              "      <th>13_00980</th>\n",
              "      <th>13_01160</th>\n",
              "      <th>13_02000</th>\n",
              "      <th>13_?</th>\n",
              "      <th>15</th>\n",
              "    </tr>\n",
              "  </thead>\n",
              "  <tbody>\n",
              "    <tr>\n",
              "      <th>0</th>\n",
              "      <td>-0.956613</td>\n",
              "      <td>-0.291083</td>\n",
              "      <td>-0.288101</td>\n",
              "      <td>-0.195413</td>\n",
              "      <td>0</td>\n",
              "      <td>0</td>\n",
              "      <td>1</td>\n",
              "      <td>0</td>\n",
              "      <td>0</td>\n",
              "      <td>0</td>\n",
              "      <td>...</td>\n",
              "      <td>0</td>\n",
              "      <td>0</td>\n",
              "      <td>0</td>\n",
              "      <td>0</td>\n",
              "      <td>0</td>\n",
              "      <td>0</td>\n",
              "      <td>0</td>\n",
              "      <td>0</td>\n",
              "      <td>0</td>\n",
              "      <td>1</td>\n",
              "    </tr>\n",
              "    <tr>\n",
              "      <th>1</th>\n",
              "      <td>-0.060051</td>\n",
              "      <td>0.244190</td>\n",
              "      <td>0.740830</td>\n",
              "      <td>-0.087852</td>\n",
              "      <td>0</td>\n",
              "      <td>1</td>\n",
              "      <td>0</td>\n",
              "      <td>0</td>\n",
              "      <td>0</td>\n",
              "      <td>0</td>\n",
              "      <td>...</td>\n",
              "      <td>0</td>\n",
              "      <td>0</td>\n",
              "      <td>0</td>\n",
              "      <td>0</td>\n",
              "      <td>0</td>\n",
              "      <td>0</td>\n",
              "      <td>0</td>\n",
              "      <td>0</td>\n",
              "      <td>0</td>\n",
              "      <td>1</td>\n",
              "    </tr>\n",
              "    <tr>\n",
              "      <th>2</th>\n",
              "      <td>-0.856102</td>\n",
              "      <td>-0.216324</td>\n",
              "      <td>-0.493887</td>\n",
              "      <td>-0.037144</td>\n",
              "      <td>0</td>\n",
              "      <td>1</td>\n",
              "      <td>0</td>\n",
              "      <td>0</td>\n",
              "      <td>0</td>\n",
              "      <td>0</td>\n",
              "      <td>...</td>\n",
              "      <td>0</td>\n",
              "      <td>0</td>\n",
              "      <td>0</td>\n",
              "      <td>0</td>\n",
              "      <td>0</td>\n",
              "      <td>0</td>\n",
              "      <td>0</td>\n",
              "      <td>0</td>\n",
              "      <td>0</td>\n",
              "      <td>1</td>\n",
              "    </tr>\n",
              "  </tbody>\n",
              "</table>\n",
              "<p>3 rows × 571 columns</p>\n",
              "</div>\n",
              "      <button class=\"colab-df-convert\" onclick=\"convertToInteractive('df-38b5eb80-695e-4aa7-99a8-164bbdeea510')\"\n",
              "              title=\"Convert this dataframe to an interactive table.\"\n",
              "              style=\"display:none;\">\n",
              "        \n",
              "  <svg xmlns=\"http://www.w3.org/2000/svg\" height=\"24px\"viewBox=\"0 0 24 24\"\n",
              "       width=\"24px\">\n",
              "    <path d=\"M0 0h24v24H0V0z\" fill=\"none\"/>\n",
              "    <path d=\"M18.56 5.44l.94 2.06.94-2.06 2.06-.94-2.06-.94-.94-2.06-.94 2.06-2.06.94zm-11 1L8.5 8.5l.94-2.06 2.06-.94-2.06-.94L8.5 2.5l-.94 2.06-2.06.94zm10 10l.94 2.06.94-2.06 2.06-.94-2.06-.94-.94-2.06-.94 2.06-2.06.94z\"/><path d=\"M17.41 7.96l-1.37-1.37c-.4-.4-.92-.59-1.43-.59-.52 0-1.04.2-1.43.59L10.3 9.45l-7.72 7.72c-.78.78-.78 2.05 0 2.83L4 21.41c.39.39.9.59 1.41.59.51 0 1.02-.2 1.41-.59l7.78-7.78 2.81-2.81c.8-.78.8-2.07 0-2.86zM5.41 20L4 18.59l7.72-7.72 1.47 1.35L5.41 20z\"/>\n",
              "  </svg>\n",
              "      </button>\n",
              "      \n",
              "  <style>\n",
              "    .colab-df-container {\n",
              "      display:flex;\n",
              "      flex-wrap:wrap;\n",
              "      gap: 12px;\n",
              "    }\n",
              "\n",
              "    .colab-df-convert {\n",
              "      background-color: #E8F0FE;\n",
              "      border: none;\n",
              "      border-radius: 50%;\n",
              "      cursor: pointer;\n",
              "      display: none;\n",
              "      fill: #1967D2;\n",
              "      height: 32px;\n",
              "      padding: 0 0 0 0;\n",
              "      width: 32px;\n",
              "    }\n",
              "\n",
              "    .colab-df-convert:hover {\n",
              "      background-color: #E2EBFA;\n",
              "      box-shadow: 0px 1px 2px rgba(60, 64, 67, 0.3), 0px 1px 3px 1px rgba(60, 64, 67, 0.15);\n",
              "      fill: #174EA6;\n",
              "    }\n",
              "\n",
              "    [theme=dark] .colab-df-convert {\n",
              "      background-color: #3B4455;\n",
              "      fill: #D2E3FC;\n",
              "    }\n",
              "\n",
              "    [theme=dark] .colab-df-convert:hover {\n",
              "      background-color: #434B5C;\n",
              "      box-shadow: 0px 1px 3px 1px rgba(0, 0, 0, 0.15);\n",
              "      filter: drop-shadow(0px 1px 2px rgba(0, 0, 0, 0.3));\n",
              "      fill: #FFFFFF;\n",
              "    }\n",
              "  </style>\n",
              "\n",
              "      <script>\n",
              "        const buttonEl =\n",
              "          document.querySelector('#df-38b5eb80-695e-4aa7-99a8-164bbdeea510 button.colab-df-convert');\n",
              "        buttonEl.style.display =\n",
              "          google.colab.kernel.accessAllowed ? 'block' : 'none';\n",
              "\n",
              "        async function convertToInteractive(key) {\n",
              "          const element = document.querySelector('#df-38b5eb80-695e-4aa7-99a8-164bbdeea510');\n",
              "          const dataTable =\n",
              "            await google.colab.kernel.invokeFunction('convertToInteractive',\n",
              "                                                     [key], {});\n",
              "          if (!dataTable) return;\n",
              "\n",
              "          const docLinkHtml = 'Like what you see? Visit the ' +\n",
              "            '<a target=\"_blank\" href=https://colab.research.google.com/notebooks/data_table.ipynb>data table notebook</a>'\n",
              "            + ' to learn more about interactive tables.';\n",
              "          element.innerHTML = '';\n",
              "          dataTable['output_type'] = 'display_data';\n",
              "          await google.colab.output.renderOutput(dataTable, element);\n",
              "          const docLink = document.createElement('div');\n",
              "          docLink.innerHTML = docLinkHtml;\n",
              "          element.appendChild(docLink);\n",
              "        }\n",
              "      </script>\n",
              "    </div>\n",
              "  </div>\n",
              "  "
            ]
          },
          "metadata": {},
          "execution_count": 10
        }
      ]
    },
    {
      "cell_type": "markdown",
      "metadata": {
        "id": "0DnG8oUhZMKo"
      },
      "source": [
        "Разбиваем выборку на тренировочную и тестовую части и обучаем модель "
      ]
    },
    {
      "cell_type": "code",
      "execution_count": 11,
      "metadata": {
        "id": "j49yCH_yZMKp"
      },
      "outputs": [],
      "source": [
        "from sklearn.model_selection import train_test_split\n",
        "\n",
        "x_data = data.iloc[:,:-1]\n",
        "y_data = data.iloc[:,-1]\n",
        "\n",
        "x_train, x_test, y_train, y_test = train_test_split(x_data, y_data, test_size=0.25, random_state=4)"
      ]
    },
    {
      "cell_type": "code",
      "execution_count": 12,
      "metadata": {
        "id": "9ZOGSpYyZMKp"
      },
      "outputs": [],
      "source": [
        "import xgboost as xgb\n",
        "\n",
        "model = xgb.XGBClassifier()\n",
        "\n",
        "model.fit(x_train, y_train)\n",
        "y_predict = model.predict(x_test)"
      ]
    },
    {
      "cell_type": "markdown",
      "metadata": {
        "id": "V2yKn1hHZMKp"
      },
      "source": [
        "Проверяем качество"
      ]
    },
    {
      "cell_type": "code",
      "execution_count": 13,
      "metadata": {
        "colab": {
          "base_uri": "https://localhost:8080/"
        },
        "id": "2vH5D6w-ZMKq",
        "outputId": "0c33f697-7735-4e8a-9933-9c65ffd99a8c"
      },
      "outputs": [
        {
          "output_type": "stream",
          "name": "stdout",
          "text": [
            "Classification results:\n",
            "f1: 82.12%\n",
            "roc: 84.47%\n",
            "recall: 84.93%\n",
            "precision: 79.49%\n"
          ]
        }
      ],
      "source": [
        "from sklearn.metrics import recall_score, precision_score, roc_auc_score, accuracy_score, f1_score\n",
        "score = []\n",
        "\n",
        "def evaluate_results(y_test, y_predict):\n",
        "    print('Classification results:')\n",
        "    f1 = f1_score(y_test, y_predict)\n",
        "    print(\"f1: %.2f%%\" % (f1 * 100.0)) \n",
        "    roc = roc_auc_score(y_test, y_predict)\n",
        "    print(\"roc: %.2f%%\" % (roc * 100.0)) \n",
        "    rec = recall_score(y_test, y_predict, average='binary')\n",
        "    print(\"recall: %.2f%%\" % (rec * 100.0)) \n",
        "    prc = precision_score(y_test, y_predict, average='binary')\n",
        "    print(\"precision: %.2f%%\" % (prc * 100.0))\n",
        "    score.append([f1, prc, rec, roc]) \n",
        "\n",
        "    \n",
        "evaluate_results(y_test, y_predict)"
      ]
    },
    {
      "cell_type": "markdown",
      "metadata": {
        "id": "ePeqNbPCZMKq"
      },
      "source": [
        "### Теперь очередь за PU learning"
      ]
    },
    {
      "cell_type": "markdown",
      "metadata": {
        "id": "Yz4PYasdZMKq"
      },
      "source": [
        "Представим, что нам неизвестны негативы и часть позитивов"
      ]
    },
    {
      "cell_type": "code",
      "execution_count": 14,
      "metadata": {
        "colab": {
          "base_uri": "https://localhost:8080/"
        },
        "id": "EBKnmhmXZMKr",
        "outputId": "b66b1d32-0a90-47e8-fd7f-2d261ec40e7e"
      },
      "outputs": [
        {
          "output_type": "stream",
          "name": "stdout",
          "text": [
            "Using 77/307 as positives and unlabeling the rest\n"
          ]
        }
      ],
      "source": [
        "mod_data = data.copy()\n",
        "#get the indices of the positives samples\n",
        "pos_ind = np.where(mod_data.iloc[:,-1].values == 1)[0]\n",
        "#shuffle them\n",
        "np.random.shuffle(pos_ind)\n",
        "# leave just 25% of the positives marked\n",
        "pos_sample_len = int(np.ceil(0.25 * len(pos_ind)))\n",
        "print(f'Using {pos_sample_len}/{len(pos_ind)} as positives and unlabeling the rest')\n",
        "pos_sample = pos_ind[:pos_sample_len]"
      ]
    },
    {
      "cell_type": "markdown",
      "metadata": {
        "id": "f5igPCR8ZMKr"
      },
      "source": [
        "Создаем столбец для новой целевой переменной, где у нас два класса - P (1) и U (-1)"
      ]
    },
    {
      "cell_type": "code",
      "execution_count": 15,
      "metadata": {
        "colab": {
          "base_uri": "https://localhost:8080/"
        },
        "id": "3fPG6PtxZMKr",
        "outputId": "f3315433-092f-4090-8035-337da8e9d8e4"
      },
      "outputs": [
        {
          "output_type": "stream",
          "name": "stdout",
          "text": [
            "target variable:\n",
            " -1    613\n",
            " 1     77\n",
            "Name: class_test, dtype: int64\n"
          ]
        }
      ],
      "source": [
        "mod_data['class_test'] = -1\n",
        "mod_data.loc[pos_sample,'class_test'] = 1\n",
        "print('target variable:\\n', mod_data.iloc[:,-1].value_counts())"
      ]
    },
    {
      "cell_type": "code",
      "execution_count": 16,
      "metadata": {
        "id": "kichtn1VZMKt"
      },
      "outputs": [],
      "source": [
        "x_data = mod_data.iloc[:,:-2].values # just the X \n",
        "y_labeled = mod_data.iloc[:,-1].values # new class (just the P & U)\n",
        "y_positive = mod_data.iloc[:,-2].values # original class"
      ]
    },
    {
      "cell_type": "markdown",
      "metadata": {
        "id": "PjMRTphiZMKt"
      },
      "source": [
        "###random negative sampling"
      ]
    },
    {
      "cell_type": "code",
      "execution_count": 17,
      "metadata": {
        "scrolled": true,
        "colab": {
          "base_uri": "https://localhost:8080/"
        },
        "id": "VF07NyvcZMKu",
        "outputId": "eed66791-29d2-4bdf-9232-7928c196d166"
      },
      "outputs": [
        {
          "output_type": "stream",
          "name": "stdout",
          "text": [
            "(77, 572) (77, 572)\n"
          ]
        }
      ],
      "source": [
        "mod_data = mod_data.sample(frac=1)\n",
        "neg_sample = mod_data[mod_data['class_test']==-1][:len(mod_data[mod_data['class_test']==1])]\n",
        "sample_test = mod_data[mod_data['class_test']==-1][len(mod_data[mod_data['class_test']==1]):]\n",
        "pos_sample = mod_data[mod_data['class_test']==1]\n",
        "print(neg_sample.shape, pos_sample.shape)\n",
        "sample_train = pd.concat([neg_sample, pos_sample]).sample(frac=1)"
      ]
    },
    {
      "cell_type": "code",
      "execution_count": 18,
      "metadata": {
        "colab": {
          "base_uri": "https://localhost:8080/"
        },
        "id": "oxMzHZ5nZMKu",
        "outputId": "9fa7f84f-2bea-48b6-821f-8f08da8135f7"
      },
      "outputs": [
        {
          "output_type": "stream",
          "name": "stdout",
          "text": [
            "Classification results:\n",
            "f1: 77.46%\n",
            "roc: 82.93%\n",
            "recall: 95.94%\n",
            "precision: 64.95%\n"
          ]
        }
      ],
      "source": [
        "model = xgb.XGBClassifier()\n",
        "\n",
        "model.fit(sample_train.iloc[:,:-2].values, \n",
        "          sample_train.iloc[:,-2].values)\n",
        "y_predict = model.predict(sample_test.iloc[:,:-2].values)\n",
        "evaluate_results(sample_test.iloc[:,-2].values, y_predict)"
      ]
    },
    {
      "cell_type": "code",
      "source": [
        "df = pd.DataFrame({'original': score[0], 'random negative sampling': score[1]}).T\n",
        "df.columns = ['fscore', 'precision', 'recall', 'roc_auc']\n",
        "df"
      ],
      "metadata": {
        "colab": {
          "base_uri": "https://localhost:8080/",
          "height": 112
        },
        "id": "c0ATp1m95gfD",
        "outputId": "7396598f-9d26-4c51-b5c6-142d591c1ae6"
      },
      "execution_count": 19,
      "outputs": [
        {
          "output_type": "execute_result",
          "data": {
            "text/plain": [
              "                            fscore  precision    recall   roc_auc\n",
              "original                  0.821192   0.794872  0.849315  0.844658\n",
              "random negative sampling  0.774590   0.649485  0.959391  0.829253"
            ],
            "text/html": [
              "\n",
              "  <div id=\"df-b474be1a-58a6-4171-ae81-07f8a881c665\">\n",
              "    <div class=\"colab-df-container\">\n",
              "      <div>\n",
              "<style scoped>\n",
              "    .dataframe tbody tr th:only-of-type {\n",
              "        vertical-align: middle;\n",
              "    }\n",
              "\n",
              "    .dataframe tbody tr th {\n",
              "        vertical-align: top;\n",
              "    }\n",
              "\n",
              "    .dataframe thead th {\n",
              "        text-align: right;\n",
              "    }\n",
              "</style>\n",
              "<table border=\"1\" class=\"dataframe\">\n",
              "  <thead>\n",
              "    <tr style=\"text-align: right;\">\n",
              "      <th></th>\n",
              "      <th>fscore</th>\n",
              "      <th>precision</th>\n",
              "      <th>recall</th>\n",
              "      <th>roc_auc</th>\n",
              "    </tr>\n",
              "  </thead>\n",
              "  <tbody>\n",
              "    <tr>\n",
              "      <th>original</th>\n",
              "      <td>0.821192</td>\n",
              "      <td>0.794872</td>\n",
              "      <td>0.849315</td>\n",
              "      <td>0.844658</td>\n",
              "    </tr>\n",
              "    <tr>\n",
              "      <th>random negative sampling</th>\n",
              "      <td>0.774590</td>\n",
              "      <td>0.649485</td>\n",
              "      <td>0.959391</td>\n",
              "      <td>0.829253</td>\n",
              "    </tr>\n",
              "  </tbody>\n",
              "</table>\n",
              "</div>\n",
              "      <button class=\"colab-df-convert\" onclick=\"convertToInteractive('df-b474be1a-58a6-4171-ae81-07f8a881c665')\"\n",
              "              title=\"Convert this dataframe to an interactive table.\"\n",
              "              style=\"display:none;\">\n",
              "        \n",
              "  <svg xmlns=\"http://www.w3.org/2000/svg\" height=\"24px\"viewBox=\"0 0 24 24\"\n",
              "       width=\"24px\">\n",
              "    <path d=\"M0 0h24v24H0V0z\" fill=\"none\"/>\n",
              "    <path d=\"M18.56 5.44l.94 2.06.94-2.06 2.06-.94-2.06-.94-.94-2.06-.94 2.06-2.06.94zm-11 1L8.5 8.5l.94-2.06 2.06-.94-2.06-.94L8.5 2.5l-.94 2.06-2.06.94zm10 10l.94 2.06.94-2.06 2.06-.94-2.06-.94-.94-2.06-.94 2.06-2.06.94z\"/><path d=\"M17.41 7.96l-1.37-1.37c-.4-.4-.92-.59-1.43-.59-.52 0-1.04.2-1.43.59L10.3 9.45l-7.72 7.72c-.78.78-.78 2.05 0 2.83L4 21.41c.39.39.9.59 1.41.59.51 0 1.02-.2 1.41-.59l7.78-7.78 2.81-2.81c.8-.78.8-2.07 0-2.86zM5.41 20L4 18.59l7.72-7.72 1.47 1.35L5.41 20z\"/>\n",
              "  </svg>\n",
              "      </button>\n",
              "      \n",
              "  <style>\n",
              "    .colab-df-container {\n",
              "      display:flex;\n",
              "      flex-wrap:wrap;\n",
              "      gap: 12px;\n",
              "    }\n",
              "\n",
              "    .colab-df-convert {\n",
              "      background-color: #E8F0FE;\n",
              "      border: none;\n",
              "      border-radius: 50%;\n",
              "      cursor: pointer;\n",
              "      display: none;\n",
              "      fill: #1967D2;\n",
              "      height: 32px;\n",
              "      padding: 0 0 0 0;\n",
              "      width: 32px;\n",
              "    }\n",
              "\n",
              "    .colab-df-convert:hover {\n",
              "      background-color: #E2EBFA;\n",
              "      box-shadow: 0px 1px 2px rgba(60, 64, 67, 0.3), 0px 1px 3px 1px rgba(60, 64, 67, 0.15);\n",
              "      fill: #174EA6;\n",
              "    }\n",
              "\n",
              "    [theme=dark] .colab-df-convert {\n",
              "      background-color: #3B4455;\n",
              "      fill: #D2E3FC;\n",
              "    }\n",
              "\n",
              "    [theme=dark] .colab-df-convert:hover {\n",
              "      background-color: #434B5C;\n",
              "      box-shadow: 0px 1px 3px 1px rgba(0, 0, 0, 0.15);\n",
              "      filter: drop-shadow(0px 1px 2px rgba(0, 0, 0, 0.3));\n",
              "      fill: #FFFFFF;\n",
              "    }\n",
              "  </style>\n",
              "\n",
              "      <script>\n",
              "        const buttonEl =\n",
              "          document.querySelector('#df-b474be1a-58a6-4171-ae81-07f8a881c665 button.colab-df-convert');\n",
              "        buttonEl.style.display =\n",
              "          google.colab.kernel.accessAllowed ? 'block' : 'none';\n",
              "\n",
              "        async function convertToInteractive(key) {\n",
              "          const element = document.querySelector('#df-b474be1a-58a6-4171-ae81-07f8a881c665');\n",
              "          const dataTable =\n",
              "            await google.colab.kernel.invokeFunction('convertToInteractive',\n",
              "                                                     [key], {});\n",
              "          if (!dataTable) return;\n",
              "\n",
              "          const docLinkHtml = 'Like what you see? Visit the ' +\n",
              "            '<a target=\"_blank\" href=https://colab.research.google.com/notebooks/data_table.ipynb>data table notebook</a>'\n",
              "            + ' to learn more about interactive tables.';\n",
              "          element.innerHTML = '';\n",
              "          dataTable['output_type'] = 'display_data';\n",
              "          await google.colab.output.renderOutput(dataTable, element);\n",
              "          const docLink = document.createElement('div');\n",
              "          docLink.innerHTML = docLinkHtml;\n",
              "          element.appendChild(docLink);\n",
              "        }\n",
              "      </script>\n",
              "    </div>\n",
              "  </div>\n",
              "  "
            ]
          },
          "metadata": {},
          "execution_count": 19
        }
      ]
    },
    {
      "cell_type": "code",
      "source": [
        "mod_data = data.copy()\n",
        "\n",
        "pos_ind = np.where(mod_data.iloc[:,-1].values == 1)[0]\n",
        "\n",
        "np.random.shuffle(pos_ind)\n",
        "# leave just 30% of the positives marked\n",
        "pos_sample_len = int(np.ceil(0.3 * len(pos_ind)))\n",
        "print(f'Using {pos_sample_len}/{len(pos_ind)} as positives and unlabeling the rest')\n",
        "pos_sample = pos_ind[:pos_sample_len]"
      ],
      "metadata": {
        "colab": {
          "base_uri": "https://localhost:8080/"
        },
        "id": "P65KuUyB6LvO",
        "outputId": "ffb56909-cdd1-4c8d-841a-5cfcdd80e8d3"
      },
      "execution_count": 21,
      "outputs": [
        {
          "output_type": "stream",
          "name": "stdout",
          "text": [
            "Using 93/307 as positives and unlabeling the rest\n"
          ]
        }
      ]
    },
    {
      "cell_type": "code",
      "source": [
        "mod_data['class_test'] = -1\n",
        "mod_data.loc[pos_sample,'class_test'] = 1\n",
        "print('target variable:\\n', mod_data.iloc[:,-1].value_counts())"
      ],
      "metadata": {
        "colab": {
          "base_uri": "https://localhost:8080/"
        },
        "id": "f_pkmW096Zh8",
        "outputId": "c09b6c0d-4a79-453e-8dd9-9153c8f7fe0f"
      },
      "execution_count": 22,
      "outputs": [
        {
          "output_type": "stream",
          "name": "stdout",
          "text": [
            "target variable:\n",
            " -1    597\n",
            " 1     93\n",
            "Name: class_test, dtype: int64\n"
          ]
        }
      ]
    },
    {
      "cell_type": "code",
      "source": [
        "x_data = mod_data.iloc[:,:-2].values # just the X \n",
        "y_labeled = mod_data.iloc[:,-1].values # new class (just the P & U)\n",
        "y_positive = mod_data.iloc[:,-2].values # original class"
      ],
      "metadata": {
        "id": "5bIEfPx76uAx"
      },
      "execution_count": null,
      "outputs": []
    },
    {
      "cell_type": "code",
      "source": [
        "mod_data = mod_data.sample(frac=1)\n",
        "neg_sample = mod_data[mod_data['class_test']==-1][:len(mod_data[mod_data['class_test']==1])]\n",
        "sample_test = mod_data[mod_data['class_test']==-1][len(mod_data[mod_data['class_test']==1]):]\n",
        "pos_sample = mod_data[mod_data['class_test']==1]\n",
        "print(neg_sample.shape, pos_sample.shape)\n",
        "sample_train = pd.concat([neg_sample, pos_sample]).sample(frac=1)"
      ],
      "metadata": {
        "colab": {
          "base_uri": "https://localhost:8080/"
        },
        "id": "lvPvs87L6x0R",
        "outputId": "a548d74b-5cee-4a2b-c748-b322552aa333"
      },
      "execution_count": 23,
      "outputs": [
        {
          "output_type": "stream",
          "name": "stdout",
          "text": [
            "(93, 572) (93, 572)\n"
          ]
        }
      ]
    },
    {
      "cell_type": "code",
      "source": [
        "model = xgb.XGBClassifier()\n",
        "\n",
        "model.fit(sample_train.iloc[:,:-2].values, \n",
        "          sample_train.iloc[:,-2].values)\n",
        "y_predict = model.predict(sample_test.iloc[:,:-2].values)\n",
        "evaluate_results(sample_test.iloc[:,-2].values, y_predict)"
      ],
      "metadata": {
        "colab": {
          "base_uri": "https://localhost:8080/"
        },
        "id": "ZyGmE7z1616o",
        "outputId": "6c31c2e3-c90e-49a0-bbb8-892e68d58f00"
      },
      "execution_count": 24,
      "outputs": [
        {
          "output_type": "stream",
          "name": "stdout",
          "text": [
            "Classification results:\n",
            "f1: 79.26%\n",
            "roc: 84.83%\n",
            "recall: 94.51%\n",
            "precision: 68.25%\n"
          ]
        }
      ]
    },
    {
      "cell_type": "code",
      "source": [
        "df = pd.DataFrame({'original': score[0], 'random negative sampling 0.25': score[1], 'random negative sampling 0.30': score[2]}).T\n",
        "df.columns = ['fscore', 'precision', 'recall', 'roc_auc']\n",
        "df"
      ],
      "metadata": {
        "colab": {
          "base_uri": "https://localhost:8080/",
          "height": 143
        },
        "id": "thfl6jCv67Lv",
        "outputId": "d7146fd2-e31b-4bf5-8584-a985715d7ea9"
      },
      "execution_count": 25,
      "outputs": [
        {
          "output_type": "execute_result",
          "data": {
            "text/plain": [
              "                                 fscore  precision    recall   roc_auc\n",
              "original                       0.821192   0.794872  0.849315  0.844658\n",
              "random negative sampling 0.25  0.774590   0.649485  0.959391  0.829253\n",
              "random negative sampling 0.30  0.792627   0.682540  0.945055  0.848304"
            ],
            "text/html": [
              "\n",
              "  <div id=\"df-bdc7cdd7-2f43-41d2-9006-b119bbd7b07f\">\n",
              "    <div class=\"colab-df-container\">\n",
              "      <div>\n",
              "<style scoped>\n",
              "    .dataframe tbody tr th:only-of-type {\n",
              "        vertical-align: middle;\n",
              "    }\n",
              "\n",
              "    .dataframe tbody tr th {\n",
              "        vertical-align: top;\n",
              "    }\n",
              "\n",
              "    .dataframe thead th {\n",
              "        text-align: right;\n",
              "    }\n",
              "</style>\n",
              "<table border=\"1\" class=\"dataframe\">\n",
              "  <thead>\n",
              "    <tr style=\"text-align: right;\">\n",
              "      <th></th>\n",
              "      <th>fscore</th>\n",
              "      <th>precision</th>\n",
              "      <th>recall</th>\n",
              "      <th>roc_auc</th>\n",
              "    </tr>\n",
              "  </thead>\n",
              "  <tbody>\n",
              "    <tr>\n",
              "      <th>original</th>\n",
              "      <td>0.821192</td>\n",
              "      <td>0.794872</td>\n",
              "      <td>0.849315</td>\n",
              "      <td>0.844658</td>\n",
              "    </tr>\n",
              "    <tr>\n",
              "      <th>random negative sampling 0.25</th>\n",
              "      <td>0.774590</td>\n",
              "      <td>0.649485</td>\n",
              "      <td>0.959391</td>\n",
              "      <td>0.829253</td>\n",
              "    </tr>\n",
              "    <tr>\n",
              "      <th>random negative sampling 0.30</th>\n",
              "      <td>0.792627</td>\n",
              "      <td>0.682540</td>\n",
              "      <td>0.945055</td>\n",
              "      <td>0.848304</td>\n",
              "    </tr>\n",
              "  </tbody>\n",
              "</table>\n",
              "</div>\n",
              "      <button class=\"colab-df-convert\" onclick=\"convertToInteractive('df-bdc7cdd7-2f43-41d2-9006-b119bbd7b07f')\"\n",
              "              title=\"Convert this dataframe to an interactive table.\"\n",
              "              style=\"display:none;\">\n",
              "        \n",
              "  <svg xmlns=\"http://www.w3.org/2000/svg\" height=\"24px\"viewBox=\"0 0 24 24\"\n",
              "       width=\"24px\">\n",
              "    <path d=\"M0 0h24v24H0V0z\" fill=\"none\"/>\n",
              "    <path d=\"M18.56 5.44l.94 2.06.94-2.06 2.06-.94-2.06-.94-.94-2.06-.94 2.06-2.06.94zm-11 1L8.5 8.5l.94-2.06 2.06-.94-2.06-.94L8.5 2.5l-.94 2.06-2.06.94zm10 10l.94 2.06.94-2.06 2.06-.94-2.06-.94-.94-2.06-.94 2.06-2.06.94z\"/><path d=\"M17.41 7.96l-1.37-1.37c-.4-.4-.92-.59-1.43-.59-.52 0-1.04.2-1.43.59L10.3 9.45l-7.72 7.72c-.78.78-.78 2.05 0 2.83L4 21.41c.39.39.9.59 1.41.59.51 0 1.02-.2 1.41-.59l7.78-7.78 2.81-2.81c.8-.78.8-2.07 0-2.86zM5.41 20L4 18.59l7.72-7.72 1.47 1.35L5.41 20z\"/>\n",
              "  </svg>\n",
              "      </button>\n",
              "      \n",
              "  <style>\n",
              "    .colab-df-container {\n",
              "      display:flex;\n",
              "      flex-wrap:wrap;\n",
              "      gap: 12px;\n",
              "    }\n",
              "\n",
              "    .colab-df-convert {\n",
              "      background-color: #E8F0FE;\n",
              "      border: none;\n",
              "      border-radius: 50%;\n",
              "      cursor: pointer;\n",
              "      display: none;\n",
              "      fill: #1967D2;\n",
              "      height: 32px;\n",
              "      padding: 0 0 0 0;\n",
              "      width: 32px;\n",
              "    }\n",
              "\n",
              "    .colab-df-convert:hover {\n",
              "      background-color: #E2EBFA;\n",
              "      box-shadow: 0px 1px 2px rgba(60, 64, 67, 0.3), 0px 1px 3px 1px rgba(60, 64, 67, 0.15);\n",
              "      fill: #174EA6;\n",
              "    }\n",
              "\n",
              "    [theme=dark] .colab-df-convert {\n",
              "      background-color: #3B4455;\n",
              "      fill: #D2E3FC;\n",
              "    }\n",
              "\n",
              "    [theme=dark] .colab-df-convert:hover {\n",
              "      background-color: #434B5C;\n",
              "      box-shadow: 0px 1px 3px 1px rgba(0, 0, 0, 0.15);\n",
              "      filter: drop-shadow(0px 1px 2px rgba(0, 0, 0, 0.3));\n",
              "      fill: #FFFFFF;\n",
              "    }\n",
              "  </style>\n",
              "\n",
              "      <script>\n",
              "        const buttonEl =\n",
              "          document.querySelector('#df-bdc7cdd7-2f43-41d2-9006-b119bbd7b07f button.colab-df-convert');\n",
              "        buttonEl.style.display =\n",
              "          google.colab.kernel.accessAllowed ? 'block' : 'none';\n",
              "\n",
              "        async function convertToInteractive(key) {\n",
              "          const element = document.querySelector('#df-bdc7cdd7-2f43-41d2-9006-b119bbd7b07f');\n",
              "          const dataTable =\n",
              "            await google.colab.kernel.invokeFunction('convertToInteractive',\n",
              "                                                     [key], {});\n",
              "          if (!dataTable) return;\n",
              "\n",
              "          const docLinkHtml = 'Like what you see? Visit the ' +\n",
              "            '<a target=\"_blank\" href=https://colab.research.google.com/notebooks/data_table.ipynb>data table notebook</a>'\n",
              "            + ' to learn more about interactive tables.';\n",
              "          element.innerHTML = '';\n",
              "          dataTable['output_type'] = 'display_data';\n",
              "          await google.colab.output.renderOutput(dataTable, element);\n",
              "          const docLink = document.createElement('div');\n",
              "          docLink.innerHTML = docLinkHtml;\n",
              "          element.appendChild(docLink);\n",
              "        }\n",
              "      </script>\n",
              "    </div>\n",
              "  </div>\n",
              "  "
            ]
          },
          "metadata": {},
          "execution_count": 25
        }
      ]
    },
    {
      "cell_type": "markdown",
      "source": [
        "### Вывод: наилучший F-score и Precision у обычного XGboost, однако Recall выше при использовании random negative sampling с долей 0.25"
      ],
      "metadata": {
        "id": "cDBXooY25mOb"
      }
    }
  ],
  "metadata": {
    "kernelspec": {
      "display_name": "Python 3",
      "language": "python",
      "name": "python3"
    },
    "language_info": {
      "codemirror_mode": {
        "name": "ipython",
        "version": 3
      },
      "file_extension": ".py",
      "mimetype": "text/x-python",
      "name": "python",
      "nbconvert_exporter": "python",
      "pygments_lexer": "ipython3",
      "version": "3.7.3"
    },
    "colab": {
      "provenance": []
    }
  },
  "nbformat": 4,
  "nbformat_minor": 0
}