{
  "nbformat": 4,
  "nbformat_minor": 0,
  "metadata": {
    "colab": {
      "provenance": []
    },
    "kernelspec": {
      "name": "python3",
      "display_name": "Python 3"
    },
    "language_info": {
      "name": "python"
    }
  },
  "cells": [
    {
      "cell_type": "markdown",
      "source": [
        "\n",
        "Строим запрос к нашему сервису"
      ],
      "metadata": {
        "id": "cwvmnJhwz7UF"
      }
    },
    {
      "cell_type": "code",
      "execution_count": 1,
      "metadata": {
        "id": "KaQ8CLudzwWQ"
      },
      "outputs": [],
      "source": [
        "import requests\n",
        "\n",
        "import urllib.request\n",
        "import json "
      ]
    },
    {
      "cell_type": "code",
      "source": [
        "# Пример данных\n",
        "data = ( \n",
        "    \"Export GIT LOG into an Excel file\",\n",
        "    \"I have looked into the forum, but with\"\n",
        ")"
      ],
      "metadata": {
        "id": "u5uAnoi-0Cxu"
      },
      "execution_count": 2,
      "outputs": []
    },
    {
      "cell_type": "code",
      "source": [
        "def send_json(x):\n",
        "    title_, body_ = x\n",
        "    print(x)\n",
        "    body = {\n",
        "        'Title': title_, \n",
        "        'Body': body_\n",
        "        }\n",
        "    myurl = 'http://7c02-35-233-158-247.ngrok-free.app' + '/predict'\n",
        "    headers = {'content-type': 'application/json; charset=utf-8'}\n",
        "    response = requests.post(myurl, json=body, headers=headers)\n",
        "    return response.json()['predictions']"
      ],
      "metadata": {
        "id": "dGjyp8JQCNQb"
      },
      "execution_count": 3,
      "outputs": []
    },
    {
      "cell_type": "code",
      "source": [
        "# обращение к серверу с запросом из одного набора (его построили руками выше - data)\n",
        "response = send_json(data)\n",
        "print('предсказание', response)"
      ],
      "metadata": {
        "id": "BN8gzGjt0I_r",
        "colab": {
          "base_uri": "https://localhost:8080/"
        },
        "outputId": "7c244692-4172-461a-d766-9abe74e6de2d"
      },
      "execution_count": 4,
      "outputs": [
        {
          "output_type": "stream",
          "name": "stdout",
          "text": [
            "('Export GIT LOG into an Excel file', 'I have looked into the forum, but with')\n",
            "предсказание 0.689907026637619\n"
          ]
        }
      ]
    },
    {
      "cell_type": "markdown",
      "source": [
        "Сделаем обработку массы запросов:\n",
        "\n",
        "1. загрузим данные из valid.csv"
      ],
      "metadata": {
        "id": "m9aMgbXF0MhQ"
      }
    },
    {
      "cell_type": "code",
      "source": [
        "import pandas as pd\n",
        "from sklearn.metrics import roc_auc_score, roc_curve, precision_recall_curve\n",
        "from sklearn.metrics import f1_score\n",
        "from urllib import request, parse\n"
      ],
      "metadata": {
        "id": "_q6RSl5c0WBi"
      },
      "execution_count": 5,
      "outputs": []
    },
    {
      "cell_type": "code",
      "source": [
        "df = pd.read_csv(\"./valid.csv\")\n",
        "df.head(5)"
      ],
      "metadata": {
        "colab": {
          "base_uri": "https://localhost:8080/",
          "height": 250
        },
        "id": "S7jU07ppC8ry",
        "outputId": "2e88785e-304e-4daf-856a-35c6128bccb3"
      },
      "execution_count": 6,
      "outputs": [
        {
          "output_type": "execute_result",
          "data": {
            "text/plain": [
              "         Id                                              Title  \\\n",
              "0  34552974  How to get all the child records from differen...   \n",
              "1  34554721  Retrieve all except some data of the another t...   \n",
              "2  34555135                                  Pandas: read_html   \n",
              "3  34555448                           Reader Always gimme NULL   \n",
              "4  34555752    php rearrange array elements based on condition   \n",
              "\n",
              "                                                Body  \\\n",
              "0  I am having 4 different tables like \\r\\nselect...   \n",
              "1  I have two table m_master and tbl_appointment\\...   \n",
              "2  <p>I'm trying to extract US states from wiki U...   \n",
              "3  I'm so new to C#, I wanna make an application ...   \n",
              "4  basically i have this array:\\r\\n\\r\\n    array(...   \n",
              "\n",
              "                                     Tags         CreationDate        Y  \n",
              "0                       <sql><sql-server>  2016-01-01 01:44:52  LQ_EDIT  \n",
              "1  <php><mysql><sql><codeigniter><mysqli>  2016-01-01 08:43:50  LQ_EDIT  \n",
              "2                        <python><pandas>  2016-01-01 09:55:22       HQ  \n",
              "3                    <sql-server><c#-4.0>  2016-01-01 10:43:45  LQ_EDIT  \n",
              "4                                   <php>  2016-01-01 11:34:09  LQ_EDIT  "
            ],
            "text/html": [
              "\n",
              "  <div id=\"df-1e12982b-d487-4c8d-8d03-a5e0555a9acb\">\n",
              "    <div class=\"colab-df-container\">\n",
              "      <div>\n",
              "<style scoped>\n",
              "    .dataframe tbody tr th:only-of-type {\n",
              "        vertical-align: middle;\n",
              "    }\n",
              "\n",
              "    .dataframe tbody tr th {\n",
              "        vertical-align: top;\n",
              "    }\n",
              "\n",
              "    .dataframe thead th {\n",
              "        text-align: right;\n",
              "    }\n",
              "</style>\n",
              "<table border=\"1\" class=\"dataframe\">\n",
              "  <thead>\n",
              "    <tr style=\"text-align: right;\">\n",
              "      <th></th>\n",
              "      <th>Id</th>\n",
              "      <th>Title</th>\n",
              "      <th>Body</th>\n",
              "      <th>Tags</th>\n",
              "      <th>CreationDate</th>\n",
              "      <th>Y</th>\n",
              "    </tr>\n",
              "  </thead>\n",
              "  <tbody>\n",
              "    <tr>\n",
              "      <th>0</th>\n",
              "      <td>34552974</td>\n",
              "      <td>How to get all the child records from differen...</td>\n",
              "      <td>I am having 4 different tables like \\r\\nselect...</td>\n",
              "      <td>&lt;sql&gt;&lt;sql-server&gt;</td>\n",
              "      <td>2016-01-01 01:44:52</td>\n",
              "      <td>LQ_EDIT</td>\n",
              "    </tr>\n",
              "    <tr>\n",
              "      <th>1</th>\n",
              "      <td>34554721</td>\n",
              "      <td>Retrieve all except some data of the another t...</td>\n",
              "      <td>I have two table m_master and tbl_appointment\\...</td>\n",
              "      <td>&lt;php&gt;&lt;mysql&gt;&lt;sql&gt;&lt;codeigniter&gt;&lt;mysqli&gt;</td>\n",
              "      <td>2016-01-01 08:43:50</td>\n",
              "      <td>LQ_EDIT</td>\n",
              "    </tr>\n",
              "    <tr>\n",
              "      <th>2</th>\n",
              "      <td>34555135</td>\n",
              "      <td>Pandas: read_html</td>\n",
              "      <td>&lt;p&gt;I'm trying to extract US states from wiki U...</td>\n",
              "      <td>&lt;python&gt;&lt;pandas&gt;</td>\n",
              "      <td>2016-01-01 09:55:22</td>\n",
              "      <td>HQ</td>\n",
              "    </tr>\n",
              "    <tr>\n",
              "      <th>3</th>\n",
              "      <td>34555448</td>\n",
              "      <td>Reader Always gimme NULL</td>\n",
              "      <td>I'm so new to C#, I wanna make an application ...</td>\n",
              "      <td>&lt;sql-server&gt;&lt;c#-4.0&gt;</td>\n",
              "      <td>2016-01-01 10:43:45</td>\n",
              "      <td>LQ_EDIT</td>\n",
              "    </tr>\n",
              "    <tr>\n",
              "      <th>4</th>\n",
              "      <td>34555752</td>\n",
              "      <td>php rearrange array elements based on condition</td>\n",
              "      <td>basically i have this array:\\r\\n\\r\\n    array(...</td>\n",
              "      <td>&lt;php&gt;</td>\n",
              "      <td>2016-01-01 11:34:09</td>\n",
              "      <td>LQ_EDIT</td>\n",
              "    </tr>\n",
              "  </tbody>\n",
              "</table>\n",
              "</div>\n",
              "      <button class=\"colab-df-convert\" onclick=\"convertToInteractive('df-1e12982b-d487-4c8d-8d03-a5e0555a9acb')\"\n",
              "              title=\"Convert this dataframe to an interactive table.\"\n",
              "              style=\"display:none;\">\n",
              "        \n",
              "  <svg xmlns=\"http://www.w3.org/2000/svg\" height=\"24px\"viewBox=\"0 0 24 24\"\n",
              "       width=\"24px\">\n",
              "    <path d=\"M0 0h24v24H0V0z\" fill=\"none\"/>\n",
              "    <path d=\"M18.56 5.44l.94 2.06.94-2.06 2.06-.94-2.06-.94-.94-2.06-.94 2.06-2.06.94zm-11 1L8.5 8.5l.94-2.06 2.06-.94-2.06-.94L8.5 2.5l-.94 2.06-2.06.94zm10 10l.94 2.06.94-2.06 2.06-.94-2.06-.94-.94-2.06-.94 2.06-2.06.94z\"/><path d=\"M17.41 7.96l-1.37-1.37c-.4-.4-.92-.59-1.43-.59-.52 0-1.04.2-1.43.59L10.3 9.45l-7.72 7.72c-.78.78-.78 2.05 0 2.83L4 21.41c.39.39.9.59 1.41.59.51 0 1.02-.2 1.41-.59l7.78-7.78 2.81-2.81c.8-.78.8-2.07 0-2.86zM5.41 20L4 18.59l7.72-7.72 1.47 1.35L5.41 20z\"/>\n",
              "  </svg>\n",
              "      </button>\n",
              "      \n",
              "  <style>\n",
              "    .colab-df-container {\n",
              "      display:flex;\n",
              "      flex-wrap:wrap;\n",
              "      gap: 12px;\n",
              "    }\n",
              "\n",
              "    .colab-df-convert {\n",
              "      background-color: #E8F0FE;\n",
              "      border: none;\n",
              "      border-radius: 50%;\n",
              "      cursor: pointer;\n",
              "      display: none;\n",
              "      fill: #1967D2;\n",
              "      height: 32px;\n",
              "      padding: 0 0 0 0;\n",
              "      width: 32px;\n",
              "    }\n",
              "\n",
              "    .colab-df-convert:hover {\n",
              "      background-color: #E2EBFA;\n",
              "      box-shadow: 0px 1px 2px rgba(60, 64, 67, 0.3), 0px 1px 3px 1px rgba(60, 64, 67, 0.15);\n",
              "      fill: #174EA6;\n",
              "    }\n",
              "\n",
              "    [theme=dark] .colab-df-convert {\n",
              "      background-color: #3B4455;\n",
              "      fill: #D2E3FC;\n",
              "    }\n",
              "\n",
              "    [theme=dark] .colab-df-convert:hover {\n",
              "      background-color: #434B5C;\n",
              "      box-shadow: 0px 1px 3px 1px rgba(0, 0, 0, 0.15);\n",
              "      filter: drop-shadow(0px 1px 2px rgba(0, 0, 0, 0.3));\n",
              "      fill: #FFFFFF;\n",
              "    }\n",
              "  </style>\n",
              "\n",
              "      <script>\n",
              "        const buttonEl =\n",
              "          document.querySelector('#df-1e12982b-d487-4c8d-8d03-a5e0555a9acb button.colab-df-convert');\n",
              "        buttonEl.style.display =\n",
              "          google.colab.kernel.accessAllowed ? 'block' : 'none';\n",
              "\n",
              "        async function convertToInteractive(key) {\n",
              "          const element = document.querySelector('#df-1e12982b-d487-4c8d-8d03-a5e0555a9acb');\n",
              "          const dataTable =\n",
              "            await google.colab.kernel.invokeFunction('convertToInteractive',\n",
              "                                                     [key], {});\n",
              "          if (!dataTable) return;\n",
              "\n",
              "          const docLinkHtml = 'Like what you see? Visit the ' +\n",
              "            '<a target=\"_blank\" href=https://colab.research.google.com/notebooks/data_table.ipynb>data table notebook</a>'\n",
              "            + ' to learn more about interactive tables.';\n",
              "          element.innerHTML = '';\n",
              "          dataTable['output_type'] = 'display_data';\n",
              "          await google.colab.output.renderOutput(dataTable, element);\n",
              "          const docLink = document.createElement('div');\n",
              "          docLink.innerHTML = docLinkHtml;\n",
              "          element.appendChild(docLink);\n",
              "        }\n",
              "      </script>\n",
              "    </div>\n",
              "  </div>\n",
              "  "
            ]
          },
          "metadata": {},
          "execution_count": 6
        }
      ]
    },
    {
      "cell_type": "code",
      "source": [
        "df['Y'] = df['Y'].apply(lambda x: 0 if x == 'HQ' else 1)"
      ],
      "metadata": {
        "id": "6sMLhLzrHuES"
      },
      "execution_count": 7,
      "outputs": []
    },
    {
      "cell_type": "markdown",
      "source": [
        "2. Передаем запрос одиночный из наших данных и посмотрим на ответ"
      ],
      "metadata": {
        "id": "lNt0Wyuj0QCn"
      }
    },
    {
      "cell_type": "code",
      "source": [
        "response = send_json(df[['Title', 'Body']].iloc[0,:])\n",
        "print('предсказание', response)"
      ],
      "metadata": {
        "id": "VdJ0xmMF0cPZ",
        "colab": {
          "base_uri": "https://localhost:8080/"
        },
        "outputId": "4173563c-d2f5-477b-b100-b2ce9d7e0265"
      },
      "execution_count": 8,
      "outputs": [
        {
          "output_type": "stream",
          "name": "stdout",
          "text": [
            "Title    How to get all the child records from differen...\n",
            "Body     I am having 4 different tables like \\r\\nselect...\n",
            "Name: 0, dtype: object\n",
            "предсказание 0.9396746872872297\n"
          ]
        }
      ]
    },
    {
      "cell_type": "markdown",
      "source": [
        "3. Сделаем N запросов и оценим время"
      ],
      "metadata": {
        "id": "EymLBnpn0kOV"
      }
    },
    {
      "cell_type": "code",
      "source": [
        "N = 25"
      ],
      "metadata": {
        "id": "mhnx-qRQ0nWz"
      },
      "execution_count": 9,
      "outputs": []
    },
    {
      "cell_type": "code",
      "source": [
        "%%time\n",
        "predictions = df[\n",
        "                     ['Title', 'Body']\n",
        "                     ].iloc[:N].apply(lambda x: send_json(x), axis=1)"
      ],
      "metadata": {
        "id": "M_mfsJnd0qRn",
        "colab": {
          "base_uri": "https://localhost:8080/"
        },
        "outputId": "35f2a7ae-c76f-4c43-e194-b9805313d6a5"
      },
      "execution_count": 10,
      "outputs": [
        {
          "output_type": "stream",
          "name": "stdout",
          "text": [
            "Title    How to get all the child records from differen...\n",
            "Body     I am having 4 different tables like \\r\\nselect...\n",
            "Name: 0, dtype: object\n",
            "Title    Retrieve all except some data of the another t...\n",
            "Body     I have two table m_master and tbl_appointment\\...\n",
            "Name: 1, dtype: object\n",
            "Title                                    Pandas: read_html\n",
            "Body     <p>I'm trying to extract US states from wiki U...\n",
            "Name: 2, dtype: object\n",
            "Title                             Reader Always gimme NULL\n",
            "Body     I'm so new to C#, I wanna make an application ...\n",
            "Name: 3, dtype: object\n",
            "Title      php rearrange array elements based on condition\n",
            "Body     basically i have this array:\\r\\n\\r\\n    array(...\n",
            "Name: 4, dtype: object\n",
            "Title     How do I make a constructor for a derived class?\n",
            "Body     <p>I am trying to make a constructor for a der...\n",
            "Name: 5, dtype: object\n",
            "Title    how can i create a dynamic tow dimensional arr...\n",
            "Body      I am using c++ in my lesson and for solving a...\n",
            "Name: 6, dtype: object\n",
            "Title                  Re-exporting ES6 modules in TS 1.7?\n",
            "Body     <p>I'm getting a bit lost in TS re-exports. Sa...\n",
            "Name: 7, dtype: object\n",
            "Title                                Fetch API with Cookie\n",
            "Body     <p>I am trying out the new Fetch API but is ha...\n",
            "Name: 8, dtype: object\n",
            "Title                  Print list content in a given order\n",
            "Body     <pre><code>lt = ['7,777.7', '777.7', '77,777.7...\n",
            "Name: 9, dtype: object\n",
            "Title                        c# - List all primes upto 100\n",
            "Body     Written the below code trying to identify all ...\n",
            "Name: 10, dtype: object\n",
            "Title            Angular2 exception: Token must be defined\n",
            "Body     <p>app/boot.ts</p>\\n\\n<pre><code>import {boots...\n",
            "Name: 11, dtype: object\n",
            "Title                              Form Validation project\n",
            "Body     <p>I am working on a project for my company an...\n",
            "Name: 12, dtype: object\n",
            "Title    Most Pythonic way to kill a thread after some ...\n",
            "Body     <p>I would like to run a process in a thread (...\n",
            "Name: 13, dtype: object\n",
            "Title    Gulp error internal/child_process.js:298 throw...\n",
            "Body     <p>I searched for the cause of this error and ...\n",
            "Name: 14, dtype: object\n",
            "Title               Filter Name with Starting Letter in C#\n",
            "Body     here is my code for select details by checking...\n",
            "Name: 15, dtype: object\n",
            "Title                     Django ImageField upload_to path\n",
            "Body     <p>I'm having trouble understanding and using ...\n",
            "Name: 16, dtype: object\n",
            "Title                          Compiling SASS in Windows 7\n",
            "Body     <p>I'm planning to use SASS in making a websit...\n",
            "Name: 17, dtype: object\n",
            "Title    to get or set the values of controls of a form...\n",
            "Body     I am new here,\\r\\ni need to ask that, how can ...\n",
            "Name: 18, dtype: object\n",
            "Title    i am new to pythn and was trying to fix indent...\n",
            "Body     class Cylinder(object):\\r\\n        self.pi = 3...\n",
            "Name: 19, dtype: object\n",
            "Title                      I cant UPDATE datetime to MySQL\n",
            "Body     <p>I need a little help.\\nI'm try to UPDATE a ...\n",
            "Name: 20, dtype: object\n",
            "Title             How to correctly share JAX-RS 2.0 client\n",
            "Body     <p>To give a little context to my issue...</p>...\n",
            "Name: 21, dtype: object\n",
            "Title            argument of type'NoneType' is not itrable\n",
            "Body     I want to  build a list of words. For each wor...\n",
            "Name: 22, dtype: object\n",
            "Title    I am getting a StringIndexOutOfBoundsException...\n",
            "Body                     //Ticket parent class\\r\\n     ...\n",
            "Name: 23, dtype: object\n",
            "Title    In python-telegram-bot how to get all particip...\n",
            "Body     <p>In <a href=\"https://github.com/python-teleg...\n",
            "Name: 24, dtype: object\n",
            "CPU times: user 225 ms, sys: 30.2 ms, total: 255 ms\n",
            "Wall time: 7.62 s\n"
          ]
        }
      ]
    },
    {
      "cell_type": "code",
      "source": [
        "predictions.values[:5]"
      ],
      "metadata": {
        "id": "Xm1x130i0sb4",
        "colab": {
          "base_uri": "https://localhost:8080/"
        },
        "outputId": "93beb270-8cd1-4451-ed00-0e9f75f98c9d"
      },
      "execution_count": 11,
      "outputs": [
        {
          "output_type": "execute_result",
          "data": {
            "text/plain": [
              "array([0.93967469, 0.99152112, 0.01292043, 0.93363839, 0.99376318])"
            ]
          },
          "metadata": {},
          "execution_count": 11
        }
      ]
    },
    {
      "cell_type": "markdown",
      "source": [
        "4. Посчитаем метрику"
      ],
      "metadata": {
        "id": "CVOAFHDt0vcj"
      }
    },
    {
      "cell_type": "code",
      "source": [
        "y_test = df['Y']"
      ],
      "metadata": {
        "id": "oj7Ez9Ts0x5C"
      },
      "execution_count": 12,
      "outputs": []
    },
    {
      "cell_type": "code",
      "source": [
        "import numpy as np\n",
        "\n",
        "precision, recall, thresholds = precision_recall_curve(y_test[:N], predictions)\n",
        "\n",
        "fscore = (2 * precision * recall) / (precision + recall)\n",
        "# locate the index of the largest f score\n",
        "ix = np.argmax(fscore)\n",
        "print(f'Best Threshold={thresholds[ix]}, F-Score={fscore[ix]:.3f}, Precision={precision[ix]:.3f}, Recall={recall[ix]:.3f}')"
      ],
      "metadata": {
        "id": "CGZ_gX_8000X",
        "colab": {
          "base_uri": "https://localhost:8080/"
        },
        "outputId": "45b30a2d-2de3-422d-a311-070acbf808a4"
      },
      "execution_count": 13,
      "outputs": [
        {
          "output_type": "stream",
          "name": "stdout",
          "text": [
            "Best Threshold=0.6131603263981417, F-Score=0.970, Precision=0.941, Recall=1.000\n"
          ]
        }
      ]
    },
    {
      "cell_type": "code",
      "source": [
        "roc_auc_score(y_score=predictions.values, y_true=y_test.values[:N])"
      ],
      "metadata": {
        "id": "5YUIdP5R05VT",
        "colab": {
          "base_uri": "https://localhost:8080/"
        },
        "outputId": "80c33a99-357f-44b1-8623-2324f4256a92"
      },
      "execution_count": 14,
      "outputs": [
        {
          "output_type": "execute_result",
          "data": {
            "text/plain": [
              "0.9930555555555555"
            ]
          },
          "metadata": {},
          "execution_count": 14
        }
      ]
    }
  ]
}